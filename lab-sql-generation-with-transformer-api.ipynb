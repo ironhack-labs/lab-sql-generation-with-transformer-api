{
  "cells": [
    {
      "cell_type": "markdown",
      "metadata": {
        "id": "view-in-github",
        "colab_type": "text"
      },
      "source": [
        "<a href=\"https://colab.research.google.com/github/solvedbrunus/lab-sql-generation-with-transformer-api/blob/main/lab-sql-generation-with-transformer-api.ipynb\" target=\"_parent\"><img src=\"https://colab.research.google.com/assets/colab-badge.svg\" alt=\"Open In Colab\"/></a>"
      ]
    },
    {
      "cell_type": "markdown",
      "metadata": {
        "id": "0oTb2vwQDTx9"
      },
      "source": [
        "# SQL Generation with Transformer API"
      ]
    },
    {
      "cell_type": "code",
      "execution_count": 1,
      "metadata": {
        "id": "8bAMjQKJfG3d",
        "outputId": "f1e87668-5b47-4253-cae7-efa996e79791",
        "colab": {
          "base_uri": "https://localhost:8080/"
        }
      },
      "outputs": [
        {
          "output_type": "stream",
          "name": "stdout",
          "text": [
            "Requirement already satisfied: torch in /usr/local/lib/python3.10/dist-packages (2.5.1+cu121)\n",
            "Requirement already satisfied: transformers in /usr/local/lib/python3.10/dist-packages (4.46.2)\n",
            "Requirement already satisfied: bitsandbytes in /usr/local/lib/python3.10/dist-packages (0.44.1)\n",
            "Requirement already satisfied: accelerate in /usr/local/lib/python3.10/dist-packages (1.1.1)\n",
            "Requirement already satisfied: sqlparse in /usr/local/lib/python3.10/dist-packages (0.5.2)\n",
            "Requirement already satisfied: filelock in /usr/local/lib/python3.10/dist-packages (from torch) (3.16.1)\n",
            "Requirement already satisfied: typing-extensions>=4.8.0 in /usr/local/lib/python3.10/dist-packages (from torch) (4.12.2)\n",
            "Requirement already satisfied: networkx in /usr/local/lib/python3.10/dist-packages (from torch) (3.4.2)\n",
            "Requirement already satisfied: jinja2 in /usr/local/lib/python3.10/dist-packages (from torch) (3.1.4)\n",
            "Requirement already satisfied: fsspec in /usr/local/lib/python3.10/dist-packages (from torch) (2024.10.0)\n",
            "Requirement already satisfied: sympy==1.13.1 in /usr/local/lib/python3.10/dist-packages (from torch) (1.13.1)\n",
            "Requirement already satisfied: mpmath<1.4,>=1.1.0 in /usr/local/lib/python3.10/dist-packages (from sympy==1.13.1->torch) (1.3.0)\n",
            "Requirement already satisfied: huggingface-hub<1.0,>=0.23.2 in /usr/local/lib/python3.10/dist-packages (from transformers) (0.26.2)\n",
            "Requirement already satisfied: numpy>=1.17 in /usr/local/lib/python3.10/dist-packages (from transformers) (1.26.4)\n",
            "Requirement already satisfied: packaging>=20.0 in /usr/local/lib/python3.10/dist-packages (from transformers) (24.2)\n",
            "Requirement already satisfied: pyyaml>=5.1 in /usr/local/lib/python3.10/dist-packages (from transformers) (6.0.2)\n",
            "Requirement already satisfied: regex!=2019.12.17 in /usr/local/lib/python3.10/dist-packages (from transformers) (2024.9.11)\n",
            "Requirement already satisfied: requests in /usr/local/lib/python3.10/dist-packages (from transformers) (2.32.3)\n",
            "Requirement already satisfied: safetensors>=0.4.1 in /usr/local/lib/python3.10/dist-packages (from transformers) (0.4.5)\n",
            "Requirement already satisfied: tokenizers<0.21,>=0.20 in /usr/local/lib/python3.10/dist-packages (from transformers) (0.20.3)\n",
            "Requirement already satisfied: tqdm>=4.27 in /usr/local/lib/python3.10/dist-packages (from transformers) (4.66.6)\n",
            "Requirement already satisfied: psutil in /usr/local/lib/python3.10/dist-packages (from accelerate) (5.9.5)\n",
            "Requirement already satisfied: MarkupSafe>=2.0 in /usr/local/lib/python3.10/dist-packages (from jinja2->torch) (3.0.2)\n",
            "Requirement already satisfied: charset-normalizer<4,>=2 in /usr/local/lib/python3.10/dist-packages (from requests->transformers) (3.4.0)\n",
            "Requirement already satisfied: idna<4,>=2.5 in /usr/local/lib/python3.10/dist-packages (from requests->transformers) (3.10)\n",
            "Requirement already satisfied: urllib3<3,>=1.21.1 in /usr/local/lib/python3.10/dist-packages (from requests->transformers) (2.2.3)\n",
            "Requirement already satisfied: certifi>=2017.4.17 in /usr/local/lib/python3.10/dist-packages (from requests->transformers) (2024.8.30)\n"
          ]
        }
      ],
      "source": [
        "!pip install torch transformers bitsandbytes accelerate sqlparse"
      ]
    },
    {
      "cell_type": "code",
      "execution_count": 2,
      "metadata": {
        "id": "BzllQomZfQnj"
      },
      "outputs": [],
      "source": [
        "import torch\n",
        "from transformers import AutoTokenizer, AutoModelForCausalLM"
      ]
    },
    {
      "cell_type": "code",
      "execution_count": 3,
      "metadata": {
        "colab": {
          "base_uri": "https://localhost:8080/"
        },
        "id": "hztT0MXkfRs1",
        "outputId": "5070ece4-3582-4f9d-8e92-3a95562446a3"
      },
      "outputs": [
        {
          "output_type": "execute_result",
          "data": {
            "text/plain": [
              "True"
            ]
          },
          "metadata": {},
          "execution_count": 3
        }
      ],
      "source": [
        "torch.cuda.is_available()"
      ]
    },
    {
      "cell_type": "code",
      "execution_count": 4,
      "metadata": {
        "id": "7jsl838clW_f"
      },
      "outputs": [],
      "source": [
        "available_memory = torch.cuda.get_device_properties(0).total_memory"
      ]
    },
    {
      "cell_type": "code",
      "execution_count": 5,
      "metadata": {
        "colab": {
          "base_uri": "https://localhost:8080/"
        },
        "id": "tTQnCfsen16q",
        "outputId": "644a40a4-a4e3-4c22-cc80-bf7c722df0c8"
      },
      "outputs": [
        {
          "output_type": "stream",
          "name": "stdout",
          "text": [
            "15835660288\n"
          ]
        }
      ],
      "source": [
        "print(available_memory)"
      ]
    },
    {
      "cell_type": "markdown",
      "metadata": {
        "id": "Tt4ilTkpTMoL"
      },
      "source": [
        "##Download the Model\n",
        "Use any model on Colab (or any system with >30GB VRAM on your own machine) to load this in f16. If unavailable, use a GPU with minimum 8GB VRAM to load this in 8bit, or with minimum 5GB of VRAM to load in 4bit.\n",
        "\n",
        "This step can take around 5 minutes the first time. So please be patient :)"
      ]
    },
    {
      "cell_type": "code",
      "execution_count": 6,
      "metadata": {
        "colab": {
          "base_uri": "https://localhost:8080/",
          "height": 173,
          "referenced_widgets": [
            "59b3f6bc108a4e98a81e92c1ead1a5de",
            "d5ab02a07b8740c887bf18011a8f0c85",
            "214ef0e034654a438a5fbbbd8b10d3c6",
            "7294a3933a314845a0eaffa1c896161f",
            "f94f7448a1e14f1c8b433d3242002ce3",
            "43d6ce7945334af3bee5259498feaffa",
            "d3861a7a18a141ddbebda8a769be673a",
            "df503a9e72a646d0a1500135c1fb990a",
            "75242721c7a94666b85456a758c88905",
            "83ae27fc50b740b0a1777f1b2abed6f7",
            "335c402bf8b9491f9cfa734bd0c48fdf"
          ]
        },
        "id": "_mNT25UOfSMw",
        "outputId": "49c3a256-4bfd-4d7f-a959-29eb24bfa8a5"
      },
      "outputs": [
        {
          "output_type": "stream",
          "name": "stderr",
          "text": [
            "/usr/local/lib/python3.10/dist-packages/huggingface_hub/utils/_auth.py:94: UserWarning: \n",
            "The secret `HF_TOKEN` does not exist in your Colab secrets.\n",
            "To authenticate with the Hugging Face Hub, create a token in your settings tab (https://huggingface.co/settings/tokens), set it as secret in your Google Colab and restart your session.\n",
            "You will be able to reuse this secret in all of your notebooks.\n",
            "Please note that authentication is recommended but still optional to access public models or datasets.\n",
            "  warnings.warn(\n"
          ]
        },
        {
          "output_type": "display_data",
          "data": {
            "text/plain": [
              "Loading checkpoint shards:   0%|          | 0/3 [00:00<?, ?it/s]"
            ],
            "application/vnd.jupyter.widget-view+json": {
              "version_major": 2,
              "version_minor": 0,
              "model_id": "59b3f6bc108a4e98a81e92c1ead1a5de"
            }
          },
          "metadata": {}
        }
      ],
      "source": [
        "model_name = \"defog/sqlcoder-7b-2\"\n",
        "tokenizer = AutoTokenizer.from_pretrained(model_name)\n",
        "if available_memory > 15e9:\n",
        "    # if you have atleast 15GB of GPU memory, run load the model in float16\n",
        "    model = AutoModelForCausalLM.from_pretrained(\n",
        "        model_name,\n",
        "        trust_remote_code=True,\n",
        "        torch_dtype=torch.float16,\n",
        "        device_map=\"auto\",\n",
        "        use_cache=True,\n",
        "    )\n",
        "else:\n",
        "    # else, load in 8 bits – this is a bit slower\n",
        "    model = AutoModelForCausalLM.from_pretrained(\n",
        "        model_name,\n",
        "        trust_remote_code=True,\n",
        "        # torch_dtype=torch.float16,\n",
        "        load_in_8bit=True,\n",
        "        device_map=\"auto\",\n",
        "        use_cache=True,\n",
        "    )"
      ]
    },
    {
      "cell_type": "markdown",
      "metadata": {
        "id": "TzLcpXyzTkHM"
      },
      "source": [
        "##Set the Question & Prompt and Tokenize\n",
        "Feel free to change the schema in the prompt below to your own schema"
      ]
    },
    {
      "cell_type": "code",
      "execution_count": 7,
      "metadata": {
        "id": "0eI-VpCkf-fN"
      },
      "outputs": [],
      "source": [
        "prompt = \"\"\"### Task\n",
        "Generate a SQL query to answer [QUESTION]{question}[/QUESTION]\n",
        "\n",
        "### Instructions\n",
        "- If you cannot answer the question with the available database schema, return 'I do not know'\n",
        "- Remember that revenue is price multiplied by quantity\n",
        "- Remember that cost is supply_price multiplied by quantity\n",
        "\n",
        "### Database Schema\n",
        "This query will run on a database whose schema is represented in this string:\n",
        "CREATE TABLE products (\n",
        "  product_id INTEGER PRIMARY KEY, -- Unique ID for each product\n",
        "  name VARCHAR(50), -- Name of the product\n",
        "  price DECIMAL(10,2), -- Price of each unit of the product\n",
        "  quantity INTEGER  -- Current quantity in stock\n",
        ");\n",
        "\n",
        "CREATE TABLE customers (\n",
        "   customer_id INTEGER PRIMARY KEY, -- Unique ID for each customer\n",
        "   name VARCHAR(50), -- Name of the customer\n",
        "   address VARCHAR(100) -- Mailing address of the customer\n",
        ");\n",
        "\n",
        "CREATE TABLE salespeople (\n",
        "  salesperson_id INTEGER PRIMARY KEY, -- Unique ID for each salesperson\n",
        "  name VARCHAR(50), -- Name of the salesperson\n",
        "  region VARCHAR(50) -- Geographic sales region\n",
        ");\n",
        "\n",
        "CREATE TABLE sales (\n",
        "  sale_id INTEGER PRIMARY KEY, -- Unique ID for each sale\n",
        "  product_id INTEGER, -- ID of product sold\n",
        "  customer_id INTEGER,  -- ID of customer who made purchase\n",
        "  salesperson_id INTEGER, -- ID of salesperson who made the sale\n",
        "  sale_date DATE, -- Date the sale occurred\n",
        "  quantity INTEGER -- Quantity of product sold\n",
        ");\n",
        "\n",
        "CREATE TABLE product_suppliers (\n",
        "  supplier_id INTEGER PRIMARY KEY, -- Unique ID for each supplier\n",
        "  product_id INTEGER, -- Product ID supplied\n",
        "  supply_price DECIMAL(10,2) -- Unit price charged by supplier\n",
        ");\n",
        "\n",
        "-- sales.product_id can be joined with products.product_id\n",
        "-- sales.customer_id can be joined with customers.customer_id\n",
        "-- sales.salesperson_id can be joined with salespeople.salesperson_id\n",
        "-- product_suppliers.product_id can be joined with products.product_id\n",
        "\n",
        "### Answer\n",
        "Given the database schema, here is the SQL query that answers [QUESTION]{question}[/QUESTION]\n",
        "[SQL]\n",
        "\"\"\""
      ]
    },
    {
      "cell_type": "markdown",
      "metadata": {
        "id": "I2Lyi9VcVoTA"
      },
      "source": [
        "##Generate the SQL\n",
        "This can be excruciatingly slow on a T4 in Colab, and can take 10-20 seconds per query. On faster GPUs, this will take ~1-2 seconds\n",
        "\n",
        "Ideally, you should use `num_beams`=4 for best results. But because of memory constraints, we will stick to just 1 for now."
      ]
    },
    {
      "cell_type": "code",
      "execution_count": 8,
      "metadata": {
        "id": "4iBKg6Rmmpnw"
      },
      "outputs": [],
      "source": [
        "import sqlparse\n",
        "\n",
        "def generate_query(question):\n",
        "    updated_prompt = prompt.format(question=question)\n",
        "    inputs = tokenizer(updated_prompt, return_tensors=\"pt\").to(\"cuda\")\n",
        "    generated_ids = model.generate(\n",
        "        **inputs,\n",
        "        num_return_sequences=1,\n",
        "        eos_token_id=tokenizer.eos_token_id,\n",
        "        pad_token_id=tokenizer.eos_token_id,\n",
        "        max_new_tokens=400,\n",
        "        do_sample=False,\n",
        "        num_beams=1,\n",
        "    )\n",
        "    outputs = tokenizer.batch_decode(generated_ids, skip_special_tokens=True)\n",
        "\n",
        "    torch.cuda.empty_cache()\n",
        "    torch.cuda.synchronize()\n",
        "    # empty cache so that you do generate more results w/o memory crashing\n",
        "    # particularly important on Colab – memory management is much more straightforward\n",
        "    # when running on an inference service\n",
        "    return sqlparse.format(outputs[0].split(\"[SQL]\")[-1], reindent=True)"
      ]
    },
    {
      "cell_type": "code",
      "execution_count": 9,
      "metadata": {
        "id": "jCJvcurqlP2_"
      },
      "outputs": [],
      "source": [
        "question = \"What was our revenue by product in the New York region last month?\"\n",
        "generated_sql = generate_query(question)"
      ]
    },
    {
      "cell_type": "code",
      "execution_count": 10,
      "metadata": {
        "colab": {
          "base_uri": "https://localhost:8080/"
        },
        "id": "flEJuo1OpYQ8",
        "outputId": "d80acefb-940f-44f8-9f8e-5582e603effe"
      },
      "outputs": [
        {
          "output_type": "stream",
          "name": "stdout",
          "text": [
            "\n",
            "SELECT p.product_id,\n",
            "       SUM(s.quantity * p.price) AS revenue\n",
            "FROM sales s\n",
            "JOIN salespeople sp ON s.salesperson_id = sp.salesperson_id\n",
            "JOIN products p ON s.product_id = p.product_id\n",
            "WHERE sp.region = 'New York'\n",
            "  AND s.sale_date >= (CURRENT_DATE - INTERVAL '1 month')\n",
            "GROUP BY p.product_id\n",
            "ORDER BY revenue DESC NULLS LAST;\n"
          ]
        }
      ],
      "source": [
        "print(generated_sql)"
      ]
    },
    {
      "cell_type": "markdown",
      "metadata": {
        "id": "09ysYJbsnKUh"
      },
      "source": [
        "# Exercise\n",
        " - Complete the prompts similar to what we did in class.\n",
        "     - Try at least 3 versions\n",
        "     - Be creative\n",
        " - Write a one page report summarizing your findings.\n",
        "     - Were there variations that didn't work well? i.e., where GPT either hallucinated or wrong\n",
        " - What did you learn?"
      ]
    },
    {
      "cell_type": "code",
      "source": [
        "import sqlparse\n",
        "\n",
        "def generate_query(prompt, question):\n",
        "    updated_prompt = prompt.format(question=question)\n",
        "    inputs = tokenizer(updated_prompt, return_tensors=\"pt\").to(\"cuda\")\n",
        "    generated_ids = model.generate(\n",
        "        **inputs,\n",
        "        num_return_sequences=1,\n",
        "        eos_token_id=tokenizer.eos_token_id,\n",
        "        pad_token_id=tokenizer.eos_token_id,\n",
        "        max_new_tokens=400,\n",
        "        do_sample=False,\n",
        "        num_beams=1,\n",
        "    )\n",
        "    outputs = tokenizer.batch_decode(generated_ids, skip_special_tokens=True)\n",
        "\n",
        "    torch.cuda.empty_cache()\n",
        "    torch.cuda.synchronize()\n",
        "    return sqlparse.format(outputs[0].split(\"[SQL]\")[-1], reindent=True)\n",
        "\n",
        "def run_all_queries(prompts, questions):\n",
        "    results = {}\n",
        "    for prompt_name, prompt in prompts.items():\n",
        "        results[prompt_name] = {}\n",
        "        for question in questions[prompt_name]:\n",
        "            generated_sql = generate_query(prompt, question)\n",
        "            results[prompt_name][question] = generated_sql\n",
        "    return results\n"
      ],
      "metadata": {
        "id": "ykTvotFvEe70"
      },
      "execution_count": 11,
      "outputs": []
    },
    {
      "cell_type": "code",
      "source": [
        "prompt1 = \"\"\"### Task\n",
        "Generate a SQL query to answer the following question: [QUESTION]{question}[/QUESTION]\n",
        "\n",
        "### Instructions\n",
        "- If the question cannot be answered with the available database schema, return 'I do not know'.\n",
        "- Revenue is calculated as price multiplied by quantity.\n",
        "- Cost is calculated as supply_price multiplied by quantity.\n",
        "\n",
        "### Database Schema\n",
        "The query will run on a database with the following schema:\n",
        "CREATE TABLE products (\n",
        "  product_id INTEGER PRIMARY KEY,\n",
        "  name VARCHAR(50),\n",
        "  price DECIMAL(10,2),\n",
        "  quantity INTEGER\n",
        ");\n",
        "\n",
        "CREATE TABLE customers (\n",
        "   customer_id INTEGER PRIMARY KEY,\n",
        "   name VARCHAR(50),\n",
        "   email VARCHAR(100)\n",
        ");\n",
        "\n",
        "CREATE TABLE orders (\n",
        "  order_id INTEGER PRIMARY KEY,\n",
        "  customer_id INTEGER,\n",
        "  order_date DATE,\n",
        "  total_amount DECIMAL(10,2)\n",
        ");\n",
        "\n",
        "CREATE TABLE order_items (\n",
        "  order_item_id INTEGER PRIMARY KEY,\n",
        "  order_id INTEGER,\n",
        "  product_id INTEGER,\n",
        "  quantity INTEGER,\n",
        "  price DECIMAL(10,2)\n",
        ");\n",
        "\n",
        "-- orders.customer_id can be joined with customers.customer_id\n",
        "-- order_items.order_id can be joined with orders.order_id\n",
        "-- order_items.product_id can be joined with products.product_id\n",
        "\n",
        "### Answer\n",
        "Based on the database schema, here is the SQL query that answers the question: [QUESTION]{question}[/QUESTION]\n",
        "[SQL]\n",
        "\"\"\""
      ],
      "metadata": {
        "id": "6w-yg68nF0Da"
      },
      "execution_count": 12,
      "outputs": []
    },
    {
      "cell_type": "code",
      "source": [
        "prompt2 = \"\"\"### Task\n",
        "Generate a SQL query to answer the following question: [QUESTION]{question}[/QUESTION]\n",
        "\n",
        "### Instructions\n",
        "- If the question cannot be answered with the available database schema, return 'I do not know'.\n",
        "\n",
        "### Database Schema\n",
        "The query will run on a database with the following schema:\n",
        "CREATE TABLE students (\n",
        "  student_id INTEGER PRIMARY KEY,\n",
        "  name VARCHAR(50),\n",
        "  major VARCHAR(50),\n",
        "  enrollment_year INTEGER\n",
        ");\n",
        "\n",
        "CREATE TABLE courses (\n",
        "  course_id INTEGER PRIMARY KEY,\n",
        "  name VARCHAR(50),\n",
        "  department VARCHAR(50)\n",
        ");\n",
        "\n",
        "CREATE TABLE enrollments (\n",
        "  enrollment_id INTEGER PRIMARY KEY,\n",
        "  student_id INTEGER,\n",
        "  course_id INTEGER,\n",
        "  semester VARCHAR(10),\n",
        "  grade CHAR(1)\n",
        ");\n",
        "\n",
        "-- enrollments.student_id can be joined with students.student_id\n",
        "-- enrollments.course_id can be joined with courses.course_id\n",
        "\n",
        "### Answer\n",
        "Based on the database schema, here is the SQL query that answers the question: [QUESTION]{question}[/QUESTION]\n",
        "[SQL]\n",
        "\"\"\""
      ],
      "metadata": {
        "id": "l3uqnpljF07v"
      },
      "execution_count": 13,
      "outputs": []
    },
    {
      "cell_type": "code",
      "source": [
        "prompt3 = \"\"\"### Task\n",
        "Generate a SQL query to answer the following question: [QUESTION]{question}[/QUESTION]\n",
        "\n",
        "### Instructions\n",
        "- If the question cannot be answered with the available database schema, return 'I do not know'.\n",
        "\n",
        "### Database Schema\n",
        "The query will run on a database with the following schema:\n",
        "CREATE TABLE patients (\n",
        "  patient_id INTEGER PRIMARY KEY,\n",
        "  name VARCHAR(50),\n",
        "  date_of_birth DATE,\n",
        "  gender CHAR(1)\n",
        ");\n",
        "\n",
        "CREATE TABLE doctors (\n",
        "  doctor_id INTEGER PRIMARY KEY,\n",
        "  name VARCHAR(50),\n",
        "  specialty VARCHAR(50)\n",
        ");\n",
        "\n",
        "CREATE TABLE appointments (\n",
        "  appointment_id INTEGER PRIMARY KEY,\n",
        "  patient_id INTEGER,\n",
        "  doctor_id INTEGER,\n",
        "  appointment_date DATE,\n",
        "  diagnosis VARCHAR(100)\n",
        ");\n",
        "\n",
        "-- appointments.patient_id can be joined with patients.patient_id\n",
        "-- appointments.doctor_id can be joined with doctors.doctor_id\n",
        "\n",
        "### Answer\n",
        "Based on the database schema, here is the SQL query that answers the question: [QUESTION]{question}[/QUESTION]\n",
        "[SQL]\n",
        "\"\"\""
      ],
      "metadata": {
        "id": "HHgpx20jF5_h"
      },
      "execution_count": 14,
      "outputs": []
    },
    {
      "cell_type": "code",
      "source": [
        "prompt4 = \"\"\"### Task\n",
        "Generate a SQL query to answer the following question: [QUESTION]{question}[/QUESTION]\n",
        "\n",
        "### Instructions\n",
        "- If the question cannot be answered with the available database schema, return 'I do not know'.\n",
        "\n",
        "### Database Schema\n",
        "The query will run on a database with the following schema:\n",
        "CREATE TABLE books (\n",
        "  book_id INTEGER PRIMARY KEY,\n",
        "  title VARCHAR(100),\n",
        "  author VARCHAR(50),\n",
        "  published_year INTEGER\n",
        ");\n",
        "\n",
        "CREATE TABLE members (\n",
        "  member_id INTEGER PRIMARY KEY,\n",
        "  name VARCHAR(50),\n",
        "  membership_date DATE\n",
        ");\n",
        "\n",
        "CREATE TABLE borrowings (\n",
        "  borrowing_id INTEGER PRIMARY KEY,\n",
        "  book_id INTEGER,\n",
        "  member_id INTEGER,\n",
        "  borrow_date DATE,\n",
        "  return_date DATE\n",
        ");\n",
        "\n",
        "-- borrowings.book_id can be joined with books.book_id\n",
        "-- borrowings.member_id can be joined with members.member_id\n",
        "\n",
        "### Answer\n",
        "Based on the database schema, here is the SQL query that answers the question: [QUESTION]{question}[/QUESTION]\n",
        "[SQL]\n",
        "\"\"\""
      ],
      "metadata": {
        "id": "rvG3Wmz8GJuW"
      },
      "execution_count": 15,
      "outputs": []
    },
    {
      "cell_type": "code",
      "source": [
        "prompts = {\n",
        "    \"ecommerce\": prompt1,\n",
        "    \"university\": prompt2,\n",
        "    \"healthcare\": prompt3,\n",
        "    \"library\": prompt4\n",
        "}"
      ],
      "metadata": {
        "id": "h3U8_N9iFaKI"
      },
      "execution_count": 16,
      "outputs": []
    },
    {
      "cell_type": "code",
      "source": [
        "questions = {\n",
        "    \"ecommerce\": [\n",
        "        \"What was the total revenue generated last month?\",\n",
        "        \"Which product had the highest sales in the last quarter?\",\n",
        "        \"How many customers made purchases in the last year?\",\n",
        "        \"What is the average order value for orders placed in the last month?\",\n",
        "        \"Which customer has made the most purchases?\"\n",
        "    ],\n",
        "    \"university\": [\n",
        "        \"How many students enrolled in the Computer Science department in 2022?\",\n",
        "        \"Which course had the highest number of enrollments in the Fall semester?\",\n",
        "        \"What is the average grade for students in the Mathematics department?\",\n",
        "        \"How many students graduated in 2021?\",\n",
        "        \"Which student has the highest GPA?\"\n",
        "    ],\n",
        "    \"healthcare\": [\n",
        "        \"How many appointments were made in the last month?\",\n",
        "        \"Which doctor had the most appointments in the last year?\",\n",
        "        \"What is the most common diagnosis for patients over 60 years old?\",\n",
        "        \"How many patients visited the cardiology department in the last quarter?\",\n",
        "        \"Which patient has the most appointments?\"\n",
        "    ],\n",
        "    \"library\": [\n",
        "        \"How many books were borrowed in the last month?\",\n",
        "        \"Which book was borrowed the most in the last year?\",\n",
        "        \"How many members joined the library in 2022?\",\n",
        "        \"What is the average borrowing duration for books?\",\n",
        "        \"Which member has borrowed the most books?\"\n",
        "    ]\n",
        "    }"
      ],
      "metadata": {
        "id": "H3lLm7qwFpPg"
      },
      "execution_count": 19,
      "outputs": []
    },
    {
      "cell_type": "code",
      "source": [
        "results = run_all_queries(prompts, questions)\n",
        "for prompt_name, queries in results.items():\n",
        "    print(f\"Results for {prompt_name} schema:\")\n",
        "    for question, sql in queries.items():\n",
        "        print(f\"Question: {question}\")\n",
        "        print(f\"Generated SQL: {sql}\\n\")"
      ],
      "metadata": {
        "colab": {
          "base_uri": "https://localhost:8080/"
        },
        "id": "TjFQmLOwFcHQ",
        "outputId": "8a851559-a970-4313-db1f-7c4f90095e14"
      },
      "execution_count": 20,
      "outputs": [
        {
          "output_type": "stream",
          "name": "stdout",
          "text": [
            "Results for ecommerce schema:\n",
            "Question: What was the total revenue generated last month?\n",
            "Generated SQL: \n",
            "SELECT SUM(o.total_amount) AS total_revenue\n",
            "FROM orders o\n",
            "WHERE o.order_date >= (CURRENT_DATE - INTERVAL '1 month');\n",
            "\n",
            "Question: Which product had the highest sales in the last quarter?\n",
            "Generated SQL: \n",
            "SELECT p.name,\n",
            "       SUM(oi.price * oi.quantity) AS revenue,\n",
            "       SUM(oi.price * oi.quantity) / NULLIF(COUNT(DISTINCT o.order_id), 0) AS avg_order_revenue\n",
            "FROM products p\n",
            "JOIN order_items oi ON p.product_id = oi.product_id\n",
            "JOIN orders o ON oi.order_id = o.order_id\n",
            "WHERE EXTRACT(QUARTER\n",
            "              FROM o.order_date) = 4\n",
            "  AND EXTRACT(YEAR\n",
            "              FROM o.order_date) = EXTRACT(YEAR\n",
            "                                           FROM CURRENT_DATE)\n",
            "GROUP BY p.name\n",
            "ORDER BY revenue DESC NULLS LAST\n",
            "LIMIT 1;\n",
            "\n",
            "Question: How many customers made purchases in the last year?\n",
            "Generated SQL: \n",
            "SELECT COUNT(DISTINCT c.customer_id)\n",
            "FROM customers c\n",
            "JOIN orders o ON c.customer_id = o.customer_id\n",
            "WHERE o.order_date >= (CURRENT_DATE - interval '1 year');\n",
            "\n",
            "Question: What is the average order value for orders placed in the last month?\n",
            "Generated SQL: \n",
            "SELECT AVG(o.total_amount) AS average_order_value\n",
            "FROM orders o\n",
            "WHERE o.order_date >= (CURRENT_DATE - INTERVAL '1 month');\n",
            "\n",
            "Question: Which customer has made the most purchases?\n",
            "Generated SQL: \n",
            "SELECT c.name,\n",
            "       COUNT(o.order_id) AS order_count\n",
            "FROM customers c\n",
            "JOIN orders o ON c.customer_id = o.customer_id\n",
            "GROUP BY c.name\n",
            "ORDER BY order_count DESC\n",
            "LIMIT 1\n",
            "\n",
            "Results for university schema:\n",
            "Question: How many students enrolled in the Computer Science department in 2022?\n",
            "Generated SQL: \n",
            "SELECT COUNT(DISTINCT s.student_id)\n",
            "FROM students s\n",
            "JOIN enrollments e ON s.student_id = e.student_id\n",
            "JOIN courses c ON e.course_id = c.course_id\n",
            "WHERE c.department = 'Computer Science'\n",
            "  AND s.enrollment_year = 2022;\n",
            "\n",
            "Question: Which course had the highest number of enrollments in the Fall semester?\n",
            "Generated SQL: \n",
            "SELECT c.name\n",
            "FROM courses c\n",
            "JOIN\n",
            "  (SELECT e.course_id,\n",
            "          COUNT(*) AS enrollment_count\n",
            "   FROM enrollments e\n",
            "   WHERE e.semester = 'Fall'\n",
            "   GROUP BY e.course_id\n",
            "   ORDER BY enrollment_count DESC\n",
            "   LIMIT 1) AS mc ON c.course_id = mc.course_id;\n",
            "\n",
            "Question: What is the average grade for students in the Mathematics department?\n",
            "Generated SQL: \n",
            "SELECT 'I do not know' AS average_grade;\n",
            "\n",
            "Question: How many students graduated in 2021?\n",
            "Generated SQL: \n",
            "SELECT COUNT(DISTINCT s.student_id)\n",
            "FROM students s\n",
            "WHERE s.enrollment_year = 2021;\n",
            "\n",
            "Question: Which student has the highest GPA?\n",
            "Generated SQL: \n",
            "SELECT 'I do not know'.\n",
            "\n",
            "Results for healthcare schema:\n",
            "Question: How many appointments were made in the last month?\n",
            "Generated SQL: \n",
            "SELECT COUNT(*)\n",
            "FROM appointments a\n",
            "WHERE a.appointment_date >= (CURRENT_DATE - interval '1 month');\n",
            "\n",
            "Question: Which doctor had the most appointments in the last year?\n",
            "Generated SQL: \n",
            "SELECT d.name,\n",
            "       COUNT(a.appointment_id) AS number_of_appointments\n",
            "FROM doctors d\n",
            "JOIN appointments a ON d.doctor_id = a.doctor_id\n",
            "WHERE a.appointment_date >= (CURRENT_DATE - interval '1 year')\n",
            "GROUP BY d.name\n",
            "ORDER BY number_of_appointments DESC NULLS LAST\n",
            "LIMIT 1;\n",
            "\n",
            "Question: What is the most common diagnosis for patients over 60 years old?\n",
            "Generated SQL: \n",
            "SELECT 'I do not know' AS answer;\n",
            "\n",
            "Question: How many patients visited the cardiology department in the last quarter?\n",
            "Generated SQL: \n",
            "SELECT COUNT(DISTINCT a.patient_id) AS number_of_patients\n",
            "FROM appointments a\n",
            "JOIN doctors d ON a.doctor_id = d.doctor_id\n",
            "WHERE d.specialty = 'cardiology'\n",
            "  AND EXTRACT(QUARTER\n",
            "              FROM a.appointment_date) = EXTRACT(QUARTER\n",
            "                                                 FROM CURRENT_DATE) - 1;\n",
            "\n",
            "Question: Which patient has the most appointments?\n",
            "Generated SQL: \n",
            "SELECT p.name,\n",
            "       COUNT(a.appointment_id) AS appointment_count\n",
            "FROM patients p\n",
            "JOIN appointments a ON p.patient_id = a.patient_id\n",
            "GROUP BY p.name\n",
            "ORDER BY appointment_count DESC\n",
            "LIMIT 1\n",
            "\n",
            "Results for library schema:\n",
            "Question: How many books were borrowed in the last month?\n",
            "Generated SQL: \n",
            "SELECT COUNT(b.book_id) AS number_of_books\n",
            "FROM borrowings b\n",
            "WHERE b.borrow_date >= (CURRENT_DATE - interval '1 month');\n",
            "\n",
            "Question: Which book was borrowed the most in the last year?\n",
            "Generated SQL: \n",
            "SELECT b.title,\n",
            "       COUNT(b.book_id) AS number_of_borrowings\n",
            "FROM borrowings b\n",
            "JOIN books bk ON b.book_id = bk.book_id\n",
            "WHERE b.borrow_date >= (CURRENT_DATE - interval '1 year')\n",
            "GROUP BY b.title\n",
            "ORDER BY number_of_borrowings DESC NULLS LAST\n",
            "LIMIT 1;\n",
            "\n",
            "Question: How many members joined the library in 2022?\n",
            "Generated SQL: \n",
            "SELECT COUNT(m.member_id)\n",
            "FROM members m\n",
            "WHERE EXTRACT(YEAR\n",
            "              FROM m.membership_date) = 2022;\n",
            "\n",
            "Question: What is the average borrowing duration for books?\n",
            "Generated SQL: \n",
            "SELECT AVG(b.return_date - b.borrow_date) AS average_duration\n",
            "FROM borrowings b;\n",
            "\n",
            "Question: Which member has borrowed the most books?\n",
            "Generated SQL: \n",
            "SELECT m.name,\n",
            "       COUNT(b.book_id) AS total_books\n",
            "FROM members m\n",
            "JOIN borrowings b ON m.member_id = b.member_id\n",
            "GROUP BY m.name\n",
            "ORDER BY total_books DESC\n",
            "LIMIT 1\n",
            "\n"
          ]
        }
      ]
    },
    {
      "cell_type": "markdown",
      "source": [
        "# Conclusion\n",
        "\n",
        "The model performed well in my opinion generating correct and relevant SQL queries for most questions. With questions that required information not present in the schema for example university the graduation year, GPA it reply that it didn’t know as expected in the prompt.\n",
        "\n",
        "The generated SQL queries were generally relevant to the questions asked, demonstrating the model's ability to understand the context and requirements of the questions.\n",
        "\n",
        "I should focus in improving the model ability to handle incomplete schemas and refining the prompts to better guide the model's query generation process."
      ],
      "metadata": {
        "id": "q7meaJZmW8St"
      }
    }
  ],
  "metadata": {
    "accelerator": "GPU",
    "colab": {
      "gpuType": "T4",
      "provenance": [],
      "include_colab_link": true
    },
    "kernelspec": {
      "display_name": "Python 3 (ipykernel)",
      "language": "python",
      "name": "python3"
    },
    "language_info": {
      "codemirror_mode": {
        "name": "ipython",
        "version": 3
      },
      "file_extension": ".py",
      "mimetype": "text/x-python",
      "name": "python",
      "nbconvert_exporter": "python",
      "pygments_lexer": "ipython3",
      "version": "3.11.8"
    },
    "widgets": {
      "application/vnd.jupyter.widget-state+json": {
        "59b3f6bc108a4e98a81e92c1ead1a5de": {
          "model_module": "@jupyter-widgets/controls",
          "model_name": "HBoxModel",
          "model_module_version": "1.5.0",
          "state": {
            "_dom_classes": [],
            "_model_module": "@jupyter-widgets/controls",
            "_model_module_version": "1.5.0",
            "_model_name": "HBoxModel",
            "_view_count": null,
            "_view_module": "@jupyter-widgets/controls",
            "_view_module_version": "1.5.0",
            "_view_name": "HBoxView",
            "box_style": "",
            "children": [
              "IPY_MODEL_d5ab02a07b8740c887bf18011a8f0c85",
              "IPY_MODEL_214ef0e034654a438a5fbbbd8b10d3c6",
              "IPY_MODEL_7294a3933a314845a0eaffa1c896161f"
            ],
            "layout": "IPY_MODEL_f94f7448a1e14f1c8b433d3242002ce3"
          }
        },
        "d5ab02a07b8740c887bf18011a8f0c85": {
          "model_module": "@jupyter-widgets/controls",
          "model_name": "HTMLModel",
          "model_module_version": "1.5.0",
          "state": {
            "_dom_classes": [],
            "_model_module": "@jupyter-widgets/controls",
            "_model_module_version": "1.5.0",
            "_model_name": "HTMLModel",
            "_view_count": null,
            "_view_module": "@jupyter-widgets/controls",
            "_view_module_version": "1.5.0",
            "_view_name": "HTMLView",
            "description": "",
            "description_tooltip": null,
            "layout": "IPY_MODEL_43d6ce7945334af3bee5259498feaffa",
            "placeholder": "​",
            "style": "IPY_MODEL_d3861a7a18a141ddbebda8a769be673a",
            "value": "Loading checkpoint shards: 100%"
          }
        },
        "214ef0e034654a438a5fbbbd8b10d3c6": {
          "model_module": "@jupyter-widgets/controls",
          "model_name": "FloatProgressModel",
          "model_module_version": "1.5.0",
          "state": {
            "_dom_classes": [],
            "_model_module": "@jupyter-widgets/controls",
            "_model_module_version": "1.5.0",
            "_model_name": "FloatProgressModel",
            "_view_count": null,
            "_view_module": "@jupyter-widgets/controls",
            "_view_module_version": "1.5.0",
            "_view_name": "ProgressView",
            "bar_style": "success",
            "description": "",
            "description_tooltip": null,
            "layout": "IPY_MODEL_df503a9e72a646d0a1500135c1fb990a",
            "max": 3,
            "min": 0,
            "orientation": "horizontal",
            "style": "IPY_MODEL_75242721c7a94666b85456a758c88905",
            "value": 3
          }
        },
        "7294a3933a314845a0eaffa1c896161f": {
          "model_module": "@jupyter-widgets/controls",
          "model_name": "HTMLModel",
          "model_module_version": "1.5.0",
          "state": {
            "_dom_classes": [],
            "_model_module": "@jupyter-widgets/controls",
            "_model_module_version": "1.5.0",
            "_model_name": "HTMLModel",
            "_view_count": null,
            "_view_module": "@jupyter-widgets/controls",
            "_view_module_version": "1.5.0",
            "_view_name": "HTMLView",
            "description": "",
            "description_tooltip": null,
            "layout": "IPY_MODEL_83ae27fc50b740b0a1777f1b2abed6f7",
            "placeholder": "​",
            "style": "IPY_MODEL_335c402bf8b9491f9cfa734bd0c48fdf",
            "value": " 3/3 [01:05&lt;00:00, 20.80s/it]"
          }
        },
        "f94f7448a1e14f1c8b433d3242002ce3": {
          "model_module": "@jupyter-widgets/base",
          "model_name": "LayoutModel",
          "model_module_version": "1.2.0",
          "state": {
            "_model_module": "@jupyter-widgets/base",
            "_model_module_version": "1.2.0",
            "_model_name": "LayoutModel",
            "_view_count": null,
            "_view_module": "@jupyter-widgets/base",
            "_view_module_version": "1.2.0",
            "_view_name": "LayoutView",
            "align_content": null,
            "align_items": null,
            "align_self": null,
            "border": null,
            "bottom": null,
            "display": null,
            "flex": null,
            "flex_flow": null,
            "grid_area": null,
            "grid_auto_columns": null,
            "grid_auto_flow": null,
            "grid_auto_rows": null,
            "grid_column": null,
            "grid_gap": null,
            "grid_row": null,
            "grid_template_areas": null,
            "grid_template_columns": null,
            "grid_template_rows": null,
            "height": null,
            "justify_content": null,
            "justify_items": null,
            "left": null,
            "margin": null,
            "max_height": null,
            "max_width": null,
            "min_height": null,
            "min_width": null,
            "object_fit": null,
            "object_position": null,
            "order": null,
            "overflow": null,
            "overflow_x": null,
            "overflow_y": null,
            "padding": null,
            "right": null,
            "top": null,
            "visibility": null,
            "width": null
          }
        },
        "43d6ce7945334af3bee5259498feaffa": {
          "model_module": "@jupyter-widgets/base",
          "model_name": "LayoutModel",
          "model_module_version": "1.2.0",
          "state": {
            "_model_module": "@jupyter-widgets/base",
            "_model_module_version": "1.2.0",
            "_model_name": "LayoutModel",
            "_view_count": null,
            "_view_module": "@jupyter-widgets/base",
            "_view_module_version": "1.2.0",
            "_view_name": "LayoutView",
            "align_content": null,
            "align_items": null,
            "align_self": null,
            "border": null,
            "bottom": null,
            "display": null,
            "flex": null,
            "flex_flow": null,
            "grid_area": null,
            "grid_auto_columns": null,
            "grid_auto_flow": null,
            "grid_auto_rows": null,
            "grid_column": null,
            "grid_gap": null,
            "grid_row": null,
            "grid_template_areas": null,
            "grid_template_columns": null,
            "grid_template_rows": null,
            "height": null,
            "justify_content": null,
            "justify_items": null,
            "left": null,
            "margin": null,
            "max_height": null,
            "max_width": null,
            "min_height": null,
            "min_width": null,
            "object_fit": null,
            "object_position": null,
            "order": null,
            "overflow": null,
            "overflow_x": null,
            "overflow_y": null,
            "padding": null,
            "right": null,
            "top": null,
            "visibility": null,
            "width": null
          }
        },
        "d3861a7a18a141ddbebda8a769be673a": {
          "model_module": "@jupyter-widgets/controls",
          "model_name": "DescriptionStyleModel",
          "model_module_version": "1.5.0",
          "state": {
            "_model_module": "@jupyter-widgets/controls",
            "_model_module_version": "1.5.0",
            "_model_name": "DescriptionStyleModel",
            "_view_count": null,
            "_view_module": "@jupyter-widgets/base",
            "_view_module_version": "1.2.0",
            "_view_name": "StyleView",
            "description_width": ""
          }
        },
        "df503a9e72a646d0a1500135c1fb990a": {
          "model_module": "@jupyter-widgets/base",
          "model_name": "LayoutModel",
          "model_module_version": "1.2.0",
          "state": {
            "_model_module": "@jupyter-widgets/base",
            "_model_module_version": "1.2.0",
            "_model_name": "LayoutModel",
            "_view_count": null,
            "_view_module": "@jupyter-widgets/base",
            "_view_module_version": "1.2.0",
            "_view_name": "LayoutView",
            "align_content": null,
            "align_items": null,
            "align_self": null,
            "border": null,
            "bottom": null,
            "display": null,
            "flex": null,
            "flex_flow": null,
            "grid_area": null,
            "grid_auto_columns": null,
            "grid_auto_flow": null,
            "grid_auto_rows": null,
            "grid_column": null,
            "grid_gap": null,
            "grid_row": null,
            "grid_template_areas": null,
            "grid_template_columns": null,
            "grid_template_rows": null,
            "height": null,
            "justify_content": null,
            "justify_items": null,
            "left": null,
            "margin": null,
            "max_height": null,
            "max_width": null,
            "min_height": null,
            "min_width": null,
            "object_fit": null,
            "object_position": null,
            "order": null,
            "overflow": null,
            "overflow_x": null,
            "overflow_y": null,
            "padding": null,
            "right": null,
            "top": null,
            "visibility": null,
            "width": null
          }
        },
        "75242721c7a94666b85456a758c88905": {
          "model_module": "@jupyter-widgets/controls",
          "model_name": "ProgressStyleModel",
          "model_module_version": "1.5.0",
          "state": {
            "_model_module": "@jupyter-widgets/controls",
            "_model_module_version": "1.5.0",
            "_model_name": "ProgressStyleModel",
            "_view_count": null,
            "_view_module": "@jupyter-widgets/base",
            "_view_module_version": "1.2.0",
            "_view_name": "StyleView",
            "bar_color": null,
            "description_width": ""
          }
        },
        "83ae27fc50b740b0a1777f1b2abed6f7": {
          "model_module": "@jupyter-widgets/base",
          "model_name": "LayoutModel",
          "model_module_version": "1.2.0",
          "state": {
            "_model_module": "@jupyter-widgets/base",
            "_model_module_version": "1.2.0",
            "_model_name": "LayoutModel",
            "_view_count": null,
            "_view_module": "@jupyter-widgets/base",
            "_view_module_version": "1.2.0",
            "_view_name": "LayoutView",
            "align_content": null,
            "align_items": null,
            "align_self": null,
            "border": null,
            "bottom": null,
            "display": null,
            "flex": null,
            "flex_flow": null,
            "grid_area": null,
            "grid_auto_columns": null,
            "grid_auto_flow": null,
            "grid_auto_rows": null,
            "grid_column": null,
            "grid_gap": null,
            "grid_row": null,
            "grid_template_areas": null,
            "grid_template_columns": null,
            "grid_template_rows": null,
            "height": null,
            "justify_content": null,
            "justify_items": null,
            "left": null,
            "margin": null,
            "max_height": null,
            "max_width": null,
            "min_height": null,
            "min_width": null,
            "object_fit": null,
            "object_position": null,
            "order": null,
            "overflow": null,
            "overflow_x": null,
            "overflow_y": null,
            "padding": null,
            "right": null,
            "top": null,
            "visibility": null,
            "width": null
          }
        },
        "335c402bf8b9491f9cfa734bd0c48fdf": {
          "model_module": "@jupyter-widgets/controls",
          "model_name": "DescriptionStyleModel",
          "model_module_version": "1.5.0",
          "state": {
            "_model_module": "@jupyter-widgets/controls",
            "_model_module_version": "1.5.0",
            "_model_name": "DescriptionStyleModel",
            "_view_count": null,
            "_view_module": "@jupyter-widgets/base",
            "_view_module_version": "1.2.0",
            "_view_name": "StyleView",
            "description_width": ""
          }
        }
      }
    }
  },
  "nbformat": 4,
  "nbformat_minor": 0
}